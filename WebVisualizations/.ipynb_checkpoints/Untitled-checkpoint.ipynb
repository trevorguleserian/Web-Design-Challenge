{
 "cells": [
  {
   "cell_type": "code",
   "execution_count": 7,
   "metadata": {},
   "outputs": [],
   "source": [
    "import pandas as pd\n",
    "\n",
    "pd.set_option('display.width', 1000)\n",
    "pd.set_option('colheader_justify', 'center')"
   ]
  },
  {
   "cell_type": "code",
   "execution_count": 15,
   "metadata": {},
   "outputs": [
    {
     "data": {
      "text/plain": [
       "<bound method DataFrame.to_html of      City_ID      City      Cloudiness Country     Date     Humidity   Lat     Lng   Max Temp  Wind Speed\n",
       "0        0    jacareacanga        0       BR    1528902000      62    -6.22  -57.76    89.60       6.93  \n",
       "1        1      kaitangata      100       NZ    1528905304      94   -46.28  169.85    42.61       5.64  \n",
       "2        2        goulburn       20       AU    1528905078      91   -34.75  149.72    44.32      10.11  \n",
       "3        3            lata       76       IN    1528905305      89    30.78   78.62    59.89       0.94  \n",
       "4        4      chokurdakh        0       RU    1528905306      88    70.62  147.90    32.17       2.95  \n",
       "..       ...           ...         ...     ...         ...       ...    ...     ...       ...         ...\n",
       "542    542          scalea       36       IT    1528905631     100    39.82   15.79    70.06       5.30  \n",
       "543    543      san andres       68       PH    1528905632     100    13.32  122.68    83.47      22.64  \n",
       "544    544          muisne       92       EC    1528905633      84     0.61  -80.02    76.90       4.63  \n",
       "545    545             ati       20       TD    1528905633      25    13.21   18.34   104.53       4.97  \n",
       "546    546        san luis        0       AR    1528905472      53   -33.30  -66.34    42.43       2.62  \n",
       "\n",
       "[547 rows x 10 columns]>"
      ]
     },
     "execution_count": 15,
     "metadata": {},
     "output_type": "execute_result"
    }
   ],
   "source": [
    "path = \"Resources/cities.csv\"\n",
    "\n",
    "cities_df = pd.read_csv(path, encoding=\"ISO-8859-1\")"
   ]
  },
  {
   "cell_type": "code",
   "execution_count": 13,
   "metadata": {},
   "outputs": [],
   "source": [
    "pd.set_option('colheader_justify', 'center')   # FOR TABLE <th>\n",
    "\n",
    "html_string = '''\n",
    "<html>\n",
    "  <head><title>HTML Pandas Dataframe with CSS</title></head>\n",
    "  <link rel=\"stylesheet\" type=\"text/css\" href=\"df_style.css\"/>\n",
    "  <body>\n",
    "    {table}\n",
    "  </body>\n",
    "</html>.\n",
    "'''\n",
    "\n",
    "# OUTPUT AN HTML FILE\n",
    "with open('myhtml.html', 'w') as f:\n",
    "    f.write(html_string.format(table=cities_df.to_html(classes='mystyle')))"
   ]
  },
  {
   "cell_type": "code",
   "execution_count": null,
   "metadata": {},
   "outputs": [],
   "source": []
  }
 ],
 "metadata": {
  "kernelspec": {
   "display_name": "Python [conda env:PythondData]",
   "language": "python",
   "name": "conda-env-PythondData-py"
  },
  "language_info": {
   "codemirror_mode": {
    "name": "ipython",
    "version": 3
   },
   "file_extension": ".py",
   "mimetype": "text/x-python",
   "name": "python",
   "nbconvert_exporter": "python",
   "pygments_lexer": "ipython3",
   "version": "3.6.10"
  }
 },
 "nbformat": 4,
 "nbformat_minor": 2
}
